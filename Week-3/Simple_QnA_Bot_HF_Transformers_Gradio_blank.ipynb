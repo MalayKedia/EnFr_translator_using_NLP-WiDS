{
  "cells": [
    {
      "cell_type": "markdown",
      "metadata": {
        "id": "QmaCEonGEXgE"
      },
      "source": [
        "# **Simple QnA Bot using FLAN and Gradio**\n",
        "In this assignment, you will build a rudimentary question answering bot using a pre-trained transformer along with Gradio, a library for building machine learning and data science demos and web applications.\n",
        "\n",
        "You are to only write/modify the code in between consecutive `# < START >` and `# < END >` comments. DO NOT modify other parts of the notebook.\n",
        "```python\n",
        "\"Don't modify any code here\"\n",
        "\n",
        "# < START >\n",
        "\"YOUR CODE GOES HERE!\"\n",
        "# < END >\n",
        "\n",
        "\"Don't modify any code here\"\n",
        "```\n",
        "\n"
      ]
    },
    {
      "cell_type": "markdown",
      "source": [
        "## **Before we Begin - Using GPUs**\n",
        "_Acc. to Wikipedia,_  \n",
        "> A [graphics processing unit (GPU)](https://en.wikipedia.org/wiki/Graphics_processing_unit) is a specialized electronic circuit initially designed to accelerate computer graphics and image processing, but have later been used for non-graphic calculations involving embarrassingly parallel problems due to their parallel structure.  \n",
        "\n",
        "Put simply, these are specialized hardware components that excel at performing an extremely large number of operations at once.<sup>*</sup>  \n",
        "Their original application in graphic rendering largely involves them multiplying a large number of matrices with one another to figure out the colors that pixels on your screen should have, and as luck would have it<sup>**</sup>, this is exactly what we do when training and using neural networks.\n",
        "\n",
        "Notes:\n",
        "<details>\n",
        "<summary>*</summary>\n",
        "There are very significant conditions on the GPUs, the most crucial one being that all the operations its carrying out in parallel <b>must be the same</b>. It can add a billion pairs of numbers at once, and multiply a billion pairs at once, but it cannot do them both together. For more information, you can watch <a href=\"https://www.youtube.com/watch?v=xi-wTlVUZsQ\"><b>this Youtube video</b></a>.\n",
        "</details>\n",
        "<details>\n",
        "<summary>**</summary>\n",
        "Its less luck, more that they both are heavily reliant on the same concepts of linear algebra.\n",
        "</details>"
      ],
      "metadata": {
        "id": "hqUr01wrhyrB"
      }
    },
    {
      "cell_type": "markdown",
      "source": [
        "### **Adding a GPU to your Colab instance**\n",
        "Google Colab lets you use GPUs on your instance. To do this, you will need to change the runtime type of your Colab Notebook.\n",
        "\n",
        "- First, find the arrow next to the **Connect/Session Info** button near the top-right, and click on it to reveal the drop-down. From the drop-down, click on **Change runtime type**.  \n",
        "![](https://drive.google.com/uc?id=16azUrMW5dHnl81_yfRotwZ-Uk-9TAweE)\n",
        "\n",
        "- In the **Change runtime type** dialog box, under **Hardware accelerator**, select **T4 GPU**. Then hit **Save**.  \n",
        "![](https://drive.google.com/uc?id=1L7vVydEIBGPJg1i8Nd39IljgwEVcOXtK)\n",
        "\n",
        "If you followed these steps correctly, then the **Connect/Session Info** button should have a T4 label next to them, and upon running the next cell you should see information related to the connected GPU.\n",
        "\n",
        "#### **If you instead see** `/bin/bash: line 1: nvidia-smi: command not found`**, that would mean the instance does not have a GPU. Please ensure that your instance has a GPU before moving on.**"
      ],
      "metadata": {
        "id": "DsaPrkCx8wgu"
      }
    },
    {
      "cell_type": "code",
      "source": [
        "!nvidia-smi"
      ],
      "metadata": {
        "id": "CN1HSFmAhb1r"
      },
      "execution_count": null,
      "outputs": []
    },
    {
      "cell_type": "markdown",
      "metadata": {
        "id": "luwlOgCXEXgH"
      },
      "source": [
        "## **Install required libraries**\n",
        "While Google Colab comes with many libraries pre-installed, we sometimes might need to use other libraries in our project.  \n",
        "For this purpose, Google Colab provides a built-in shell command feature that allows you to run shell commands in a notebook cell. To run a shell command, you need to prefix it with an exclamation mark (!).  \n",
        "We will use this feature to invoke `pip`, Python's default package installer, and install the necessary packages:"
      ]
    },
    {
      "cell_type": "code",
      "execution_count": null,
      "metadata": {
        "id": "28elHfFWEXgI"
      },
      "outputs": [],
      "source": [
        "! pip install -q transformers accelerate sentencepiece gradio"
      ]
    },
    {
      "cell_type": "markdown",
      "metadata": {
        "id": "7S2rH1FcEXgJ"
      },
      "source": [
        "## **FLAN-T5-Large** (780M)\n",
        "\n",
        "\n",
        "FLAN-T5 is a text-to-text LLM developed by Google Research. FLAN stands for “Fine-tuned LAnguage Net” T-5 stands for “Text-To-Text Transfer Transformer”. It is a comparitively light-weight model, with just 780 million parameters.\n",
        "\n",
        "Here, a ***parameter*** refers to a trainable value in a model. Put simply, this means each and every value in the weight matrix of a fully connected layer, in the self-attention heads and so on will be considered a parameter. Thus a simple one layer neural network with an input layer or size $m$ and output layer of size $n$ will have $m\\cdot n$ paramters.\n",
        "\n",
        "While a parameter isn't a direct measure of a model's complexity or effeciency, it gives us an understanding of the size and resources that the model requires. Many well-known models like GPT-3, PaLM and LLaMA can sometimes have upwards of tens if not hunderds of **billions** of parameters, but these are too large for your standard Colab instance to handle.  \n",
        "\n",
        "In this assignment, we'll be using Google's **FLAN-T5** as the LLM. At around 780M parameters, it is at a manageable size that your Colab instance should be able to run."
      ]
    },
    {
      "cell_type": "code",
      "execution_count": null,
      "metadata": {
        "id": "CaxFyF68EXgK"
      },
      "outputs": [],
      "source": [
        "from transformers import T5Tokenizer, T5ForConditionalGeneration\n",
        "\n",
        "tokenizer = T5Tokenizer.from_pretrained(\"google/flan-t5-large\")\n",
        "model = T5ForConditionalGeneration.from_pretrained(\"google/flan-t5-large\").to(\"cuda\")"
      ]
    },
    {
      "cell_type": "markdown",
      "metadata": {
        "id": "iauc5BdPEXgL"
      },
      "source": [
        "## **Using the Transformer**\n",
        "There are 3 simple steps to getting the transfomer to generate a response:\n",
        "1. Tokenize your input string\n",
        "1. Pass your tokenized input to the model, with any other modifiers that the model might take (<u>ex.</u> the maximum length of the output)\n",
        "1. Decode your output logits to get the generated output string"
      ]
    },
    {
      "cell_type": "code",
      "execution_count": null,
      "metadata": {
        "id": "1GgURDOQEXgL"
      },
      "outputs": [],
      "source": [
        "def generate(input_text):\n",
        "  input_ids = tokenizer(input_text, return_tensors=\"pt\").input_ids.to(\"cuda\")\n",
        "  output = model.generate(input_ids, max_length=100)\n",
        "  return tokenizer.decode(output[0], skip_special_tokens=True)"
      ]
    },
    {
      "cell_type": "markdown",
      "source": [
        "Let's test the model on some inputs:\n",
        "#### Translation"
      ],
      "metadata": {
        "id": "BTOFfSizYtaV"
      }
    },
    {
      "cell_type": "code",
      "execution_count": null,
      "metadata": {
        "id": "mPnCYzH1EXgL"
      },
      "outputs": [],
      "source": [
        "input_text = \"\"\"translate English to French: How much do the tomatoes cost?\"\"\"\n",
        "generate(input_text)"
      ]
    },
    {
      "cell_type": "markdown",
      "source": [
        "#### Simple Facts"
      ],
      "metadata": {
        "id": "j5H03T4FZQo2"
      }
    },
    {
      "cell_type": "code",
      "execution_count": null,
      "metadata": {
        "id": "2Qd2t7EGEXgM"
      },
      "outputs": [],
      "source": [
        "input_text = \"\"\"Please answer the following question.\n",
        "What is the boiling point of water in °F?\"\"\"\n",
        "generate(input_text)"
      ]
    },
    {
      "cell_type": "markdown",
      "source": [
        "#### Mathematical Reasoning"
      ],
      "metadata": {
        "id": "uxzaH3SdZXDs"
      }
    },
    {
      "cell_type": "code",
      "execution_count": null,
      "metadata": {
        "id": "zOydfLyEEXgM"
      },
      "outputs": [],
      "source": [
        "input_text = \"\"\"\n",
        "Answer the following question by reasoning step by step.\n",
        "The cafeteria had 23 apples. If the used 20 for lunch and bougth 6 more, how many apples do they have?\n",
        "\"\"\"\n",
        "generate(input_text)"
      ]
    },
    {
      "cell_type": "markdown",
      "source": [
        "#### Logical Reasoning"
      ],
      "metadata": {
        "id": "lke4eJpjazp2"
      }
    },
    {
      "cell_type": "code",
      "execution_count": null,
      "metadata": {
        "id": "JqboEElAEXgM"
      },
      "outputs": [],
      "source": [
        "input_text = \"\"\"\n",
        "Q: Can Mozart have a conversation with Kanye West?\n",
        "Give the rationale before answering\n",
        "\"\"\"\n",
        "generate(input_text)"
      ]
    },
    {
      "cell_type": "code",
      "execution_count": null,
      "metadata": {
        "id": "eJlghEPPEXgN"
      },
      "outputs": [],
      "source": [
        "input_text = \"\"\"\n",
        "\"Premise: Alberto is the CTO of a top NLP company. Hypothesis: Alberto is a tech expert. Does the premise entail the hypothesis?\"\n",
        "\"\"\"\n",
        "\n",
        "generate(input_text)"
      ]
    },
    {
      "cell_type": "code",
      "execution_count": null,
      "metadata": {
        "id": "JH7Z-GOMEXgN"
      },
      "outputs": [],
      "source": [
        "input_text = \"\"\"\n",
        "Q: Answer the following yes/no question by\n",
        "reasoning step-by-step.\n",
        "Can you write a whole Haiku in a single tweet?\n",
        "A:\"\"\"\n",
        "generate(input_text)"
      ]
    },
    {
      "cell_type": "markdown",
      "source": [
        "#### Custom Knowledge"
      ],
      "metadata": {
        "id": "WaT-0ldjZzEQ"
      }
    },
    {
      "cell_type": "code",
      "execution_count": null,
      "metadata": {
        "id": "MreZOH5EEXgN"
      },
      "outputs": [],
      "source": [
        "input_text = \"\"\"\n",
        "Summarize the following text: The tower is 324 metres (1,063 ft) tall, about the same height as an 81-storey building, and the tallest structure in Paris. Its base is square, measuring 125 metres (410 ft) on each side. During its construction, the Eiffel Tower surpassed the Washington Monument to become the tallest man-made structure in the world, a title it held for 41 years until the Chrysler Building in New York City was finished in 1930. It was the first structure to reach a height of 300 metres. Due to the addition of a broadcasting aerial at the top of the tower in 1957, it is now taller than the Chrysler Building by 5.2 metres (17 ft). Excluding transmitters, the Eiffel Tower is the second tallest free-standing structure in France after the Millau Viaduct.\n",
        "\"\"\"\n",
        "generate(input_text)"
      ]
    },
    {
      "cell_type": "code",
      "execution_count": null,
      "metadata": {
        "id": "DnB7pco_EXgN"
      },
      "outputs": [],
      "source": [
        "input_text = \"\"\"\n",
        "Generate a question for the following text: The tower is 324 metres (1,063 ft) tall, about the same height as an 81-storey building, and the tallest structure in Paris. Its base is square, measuring 125 metres (410 ft) on each side. During its construction, the Eiffel Tower surpassed the Washington Monument to become the tallest man-made structure in the world, a title it held for 41 years until the Chrysler Building in New York City was finished in 1930. It was the first structure to reach a height of 300 metres. Due to the addition of a broadcasting aerial at the top of the tower in 1957, it is now taller than the Chrysler Building by 5.2 metres (17 ft). Excluding transmitters, the Eiffel Tower is the second tallest free-standing structure in France after the Millau Viaduct.\n",
        "\"\"\"\n",
        "generate(input_text)"
      ]
    },
    {
      "cell_type": "markdown",
      "source": [
        "#### Sentiment Analysis"
      ],
      "metadata": {
        "id": "xc3cbj7-asuw"
      }
    },
    {
      "cell_type": "code",
      "execution_count": null,
      "metadata": {
        "id": "s3atl11MEXgO"
      },
      "outputs": [],
      "source": [
        "input_text = \"\"\"\n",
        "Q: Which statement is sarcastic?\n",
        "Options:\n",
        "(A) Congratulations on finishing the assignment!\n",
        "(B) Congratulations on finally releasing Week 4, why you should've taken another week to do it!\n",
        "A: Let's think step by step.\n",
        "\"\"\"\n",
        "generate(input_text)"
      ]
    },
    {
      "cell_type": "markdown",
      "source": [
        "As you might have seen, while the model generates coherent replies, it is not really capable of more involved logical or emotional analysis. It makes up facts, and is confidently incorrect with mathematics.  \n",
        "However, now understanding the general structure behind these models, you may have a new-found appreciation for even its simplest abilities.  \n",
        "\n",
        "Let us now create a simple GUI to let us interact with this model more easily."
      ],
      "metadata": {
        "id": "PUpPrDzxc5hr"
      }
    },
    {
      "cell_type": "markdown",
      "source": [
        "## **GUI with Gradio**\n",
        "[**Gradio**](https://www.gradio.app/) is an open-source Python library that is used to build machine learning and data science demos and web applications.\n",
        "\n",
        "With Gradio, you can quickly create a beautiful user interface around your machine learning models or data science workflow and let people \"try it out\" by dragging-and-dropping in their own images, pasting text, recording their own voice, and interacting with your demo, all through the browser.\n",
        "\n",
        "Here, we have created a simple GUI for our text generation model using Gradio.\n",
        "\n",
        "The [`Interface`](https://www.gradio.app/docs/interface) is a high-level component, that manages the creation and updation of the whole GUI.\n",
        "\n",
        "It takes 3 mandatory parameters: a function that takes all the inputs from the UI (<u>ex.</u> a prompt, image) and returns a single output (a response) or a tuple of expected outputs; the inputs; and the outputs.  \n",
        "It also has other optional arguments to add or change stuff to the UI (title, example inputs, themes, etc.).\n",
        "\n",
        "For our use, all we require is a field for text input along with a place for our output. To achieve this, we use two [`Textbox`](https://www.gradio.app/docs/textbox) components, one for input and the other for the output.\n",
        "\n",
        "We also set a custom title and include a few example prompts for people to get started with using the model."
      ],
      "metadata": {
        "id": "RwVwfR7FfcId"
      }
    },
    {
      "cell_type": "code",
      "execution_count": null,
      "metadata": {
        "id": "GQNU9RxvEXgO"
      },
      "outputs": [],
      "source": [
        "import gradio as gr\n",
        "\n",
        "# Examples are a nested array, with each inner array contiaining all the values\n",
        "# corresponing to each input field for the example. In our case, since we have\n",
        "# only one input field, we may just use an array of strings instead\n",
        "\n",
        "examples = [\n",
        "  [\"Answer the following question by detailing your reasoning: Are Pokemons alive?\"],\n",
        "  [\"Q: Can Barack Obama have a conversation with George Washington? Give the rationale before answering.\"],\n",
        "  [\"Summarize the following text: Peter and Elizabeth took a taxi to attend the night party in the city. While in the party, Elizabeth collapsed and was rushed to the hospital. Since she was diagnosed with a brain injury, the doctor told Peter to stay besides her until she gets well. Therefore, Peter stayed with her at the hospital for 3 days without leaving.\"],\n",
        "  [\"Translate to German: I love eating flan!\"],\n",
        "  [\"Generate a cooking recipe to make a cheesecacke:\"],\n",
        "  [\"Premise:  At my age you will probably have learnt one lesson. Hypothesis:  It's not certain how many lessons you'll learn by your thirties. Does the premise entail the hypothesis?\"],\n",
        "  [\"Answer the following question by reasoning step by step. The cafeteria had 23 apples. If they used 20 for lunch and bought 6 more, how many apples do they have?\"]\n",
        "]\n",
        "\n",
        "title = \"Response Generation Model - FLAN\"\n",
        "\n",
        "# The function that takes the text input and generates a text output\n",
        "def process_input(text):\n",
        " return generate(text)\n",
        "\n",
        "model_gui = gr.Interface(\n",
        "  process_input,\n",
        "  gr.Textbox(lines=3,label=\"Input\"),\n",
        "  gr.Textbox(lines=3, label=\"FLAN T5\"),\n",
        "  title=title,\n",
        "  examples=examples\n",
        ")\n",
        "model_gui.launch()"
      ]
    },
    {
      "cell_type": "markdown",
      "source": [
        "## **Text Generation Demo with GPT-2**\n",
        "You will now use the knowledge from the previous model demonstration to build a text generation demo using GPT-2, that takes an input sequence of words, and builds upon it.\n",
        "\n",
        "$$\n",
        "\\text{The sky is}\\rightarrow\\text{The sky is the limit. Don't limit yourself.}\n",
        "$$"
      ],
      "metadata": {
        "id": "rEe1lRUY-f7k"
      }
    },
    {
      "cell_type": "code",
      "source": [
        "# <START>\n",
        "#Set this to true only when you're ready to move on to this section\n",
        "remove_model = False\n",
        "# <END>\n",
        "assert remove_model\n",
        "\n",
        "del model         # Delete refernces to model\n",
        "del tokenizer     # Delete references to tokenizer\n",
        "model_gui.close() # Close model's server (note that the GUI will still be visible, but non-functional)"
      ],
      "metadata": {
        "id": "v0Imsj5MAClQ"
      },
      "execution_count": null,
      "outputs": []
    },
    {
      "cell_type": "markdown",
      "source": [
        "Instead of writing all the code required to harness the power of the transformer, we will instead use **pipelines**, abstractions that offer a simple API for many specific tasks such as Named Entity Recognition, sentiment analysis, image classification, and even text generation."
      ],
      "metadata": {
        "id": "JsFzid7RBXzz"
      }
    },
    {
      "cell_type": "code",
      "source": [
        "from transformers import pipeline\n",
        "# download & load GPT-2 model\n",
        "text_generator = pipeline('text-generation', model='gpt2',device_map='auto')"
      ],
      "metadata": {
        "id": "KW7c0SjgBYHO"
      },
      "execution_count": null,
      "outputs": []
    },
    {
      "cell_type": "markdown",
      "source": [
        "The text generator pipeline takes a prompt as an input, and returns a list of dicts (corresponding to the value of `num_return_sequences`) that contain the generated text under the `generated_text` key.\n",
        "\n",
        "```python\n",
        "[\n",
        "  {'generated_text': \"The sky is the limit. Don't ...\"},\n",
        "  ...\n",
        "]\n",
        "```\n",
        "Top-k sampling along with temperature has been implemented, and you can vary the values of these LLM hyper-parameters to see how it affects the generated output."
      ],
      "metadata": {
        "id": "du2VhiV8RskS"
      }
    },
    {
      "cell_type": "code",
      "source": [
        "import warnings\n",
        "warnings.filterwarnings(\"ignore\") # To supress sequential runs warnings that the text_generator issues\n",
        "\n",
        "# <START>\n",
        "top_k = 50\n",
        "temperature = 0.5\n",
        "max_length = 100\n",
        "\n",
        "input = \"To be honest, neural networks\"\n",
        "# <END>\n",
        "\n",
        "sentences = text_generator(input, do_sample=True, top_k=top_k, temperature=temperature, max_length=max_length, num_return_sequences=3)\n",
        "\n",
        "print(\"=\"*50)\n",
        "for sentence in sentences:\n",
        "  print(sentence['generated_text'])\n",
        "  print(\"=\"*50)"
      ],
      "metadata": {
        "id": "jBOikbQkR2DJ"
      },
      "execution_count": null,
      "outputs": []
    },
    {
      "cell_type": "markdown",
      "source": [
        "Now, create a GUI for this text generation model. It should contain:\n",
        "\n",
        "- Numerical input fields for `top_k` and `max_length`\n",
        "- A slider from $0$ to $1$ for `temperature`\n",
        "- A text input field for the prompt, and a text output field for the generated text (only generate the one text you plan to display)\n",
        "\n",
        "The inference function should take all the input values, and return the generated text"
      ],
      "metadata": {
        "id": "mfb0zZETRucD"
      }
    },
    {
      "cell_type": "code",
      "source": [
        "# <START>\n",
        "# The function that takes all inputs and returns the generated text\n",
        "def generate_text():\n",
        "  pass\n",
        "\n",
        "text_gen_gui = gr.Interface(\n",
        ")\n",
        "text_gen_gui.launch()\n",
        "# <END>"
      ],
      "metadata": {
        "id": "c9_vPLPoPRsG"
      },
      "execution_count": null,
      "outputs": []
    }
  ],
  "metadata": {
    "language_info": {
      "name": "python"
    },
    "orig_nbformat": 4,
    "colab": {
      "provenance": []
    },
    "kernelspec": {
      "name": "python3",
      "display_name": "Python 3"
    }
  },
  "nbformat": 4,
  "nbformat_minor": 0
}